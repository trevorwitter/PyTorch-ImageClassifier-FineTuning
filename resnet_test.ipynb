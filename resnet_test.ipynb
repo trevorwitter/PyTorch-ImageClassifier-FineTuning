{
 "cells": [
  {
   "cell_type": "code",
   "execution_count": null,
   "id": "96e5da2f-7bbb-46c4-b3cb-6ecb7a1bac60",
   "metadata": {},
   "outputs": [],
   "source": [
    "import os\n",
    "import argparse\n",
    "import datetime\n",
    "import numpy as np\n",
    "import pandas as pd\n",
    "import torch\n",
    "import torch.nn as nn\n",
    "import torch.nn.functional as F\n",
    "import torch.optim as optim\n",
    "import torchvision\n",
    "from torchvision import transforms\n",
    "from torchvision.io import read_image\n",
    "from PIL import Image\n",
    "\n",
    "from torchvision.models import resnet50, ResNet50_Weights"
   ]
  },
  {
   "cell_type": "code",
   "execution_count": null,
   "id": "8812981d",
   "metadata": {},
   "outputs": [],
   "source": [
    "60*5"
   ]
  },
  {
   "cell_type": "code",
   "execution_count": null,
   "id": "00b384d4",
   "metadata": {},
   "outputs": [],
   "source": [
    "import time\n",
    "time.sleep(2)\n",
    "print(\"done\")"
   ]
  },
  {
   "cell_type": "code",
   "execution_count": null,
   "id": "1a9d0863-3faf-4a80-b1d9-5eee5c6be55d",
   "metadata": {},
   "outputs": [],
   "source": [
    "num_workers = 8\n",
    "gpu = True\n",
    "epochs = 1"
   ]
  },
  {
   "cell_type": "code",
   "execution_count": null,
   "id": "7da5808b-a099-4d4c-9e54-26715fdd02bf",
   "metadata": {},
   "outputs": [],
   "source": [
    "device = torch.device(\"mps\")\n",
    "device.type"
   ]
  },
  {
   "cell_type": "code",
   "execution_count": null,
   "id": "e0f623e3-2141-4206-87b4-cf23a6cc72a5",
   "metadata": {},
   "outputs": [],
   "source": [
    "torch.cuda.is_available()"
   ]
  },
  {
   "cell_type": "code",
   "execution_count": null,
   "id": "9d8d99c5-0dcb-4420-8c6c-7a81a71ec590",
   "metadata": {
    "tags": []
   },
   "outputs": [],
   "source": [
    "class ResNet50Food(nn.Module):\n",
    "    def __init__(self):\n",
    "        super().__init__()\n",
    "        self.weights = ResNet50_Weights.IMAGENET1K_V2\n",
    "        self.pretrained = resnet50(weights=self.weights)\n",
    "        self.fc2 = nn.Linear(in_features=1000, out_features=101, bias=True)\n",
    "    \n",
    "    def forward(self, x):\n",
    "        x = self.pretrained(x)\n",
    "        x = self.fc2(x)\n",
    "        return x\n",
    "    \n",
    "net = ResNet50Food()\n",
    "#net.train()"
   ]
  },
  {
   "cell_type": "code",
   "execution_count": null,
   "id": "cd17da9b-5762-4327-88ad-96881df91de0",
   "metadata": {},
   "outputs": [],
   "source": [
    "net.parameters()"
   ]
  },
  {
   "cell_type": "code",
   "execution_count": null,
   "id": "17029899-bce1-4d2f-b6cf-9d0e30900c3b",
   "metadata": {
    "collapsed": true,
    "jupyter": {
     "outputs_hidden": true
    },
    "tags": []
   },
   "outputs": [],
   "source": [
    "for p in net.pretrained.parameters():\n",
    "    print(p)"
   ]
  },
  {
   "cell_type": "code",
   "execution_count": null,
   "id": "255469d4-86f6-4a08-b017-e81548bac71d",
   "metadata": {},
   "outputs": [],
   "source": [
    "for p in net.pretrained.parameters():\n",
    "    p.requires_grad = False"
   ]
  },
  {
   "cell_type": "code",
   "execution_count": null,
   "id": "8e3771aa-46ac-4a98-8c4f-c247b3cbf6d8",
   "metadata": {
    "collapsed": true,
    "jupyter": {
     "outputs_hidden": true
    },
    "tags": []
   },
   "outputs": [],
   "source": [
    "for p in net.pretrained.parameters():\n",
    "    print(p)"
   ]
  },
  {
   "cell_type": "code",
   "execution_count": null,
   "id": "8efc7a36",
   "metadata": {},
   "outputs": [],
   "source": [
    "net2 = resnet50(weights=ResNet50_Weights.IMAGENET1K_V2)"
   ]
  },
  {
   "cell_type": "code",
   "execution_count": null,
   "id": "6e5ad24f",
   "metadata": {},
   "outputs": [],
   "source": [
    "net2.fc = nn.Linear(in_features=2048, out_features=101, bias=True)"
   ]
  },
  {
   "cell_type": "code",
   "execution_count": null,
   "id": "589812c0",
   "metadata": {},
   "outputs": [],
   "source": [
    "net2.fc"
   ]
  },
  {
   "cell_type": "code",
   "execution_count": null,
   "id": "8602aa03-8109-49d4-8043-7d2b87800f6e",
   "metadata": {},
   "outputs": [],
   "source": [
    "transform = transforms.Compose(\n",
    "        [transforms.Resize(256,antialias=True),\n",
    "        transforms.CenterCrop(224),\n",
    "        #transforms.ConvertImageDtype(torch.float32),\n",
    "        transforms.ToTensor(),\n",
    "        #transforms.Normalize((0.5, 0.5, 0.5), (0.5, 0.5, 0.5))\n",
    "        transforms.Normalize(mean=[0.485, 0.456, 0.406], std=[0.229, 0.224, 0.225]),\n",
    "        ])\n",
    "\n",
    "preprocess = net.weights.transforms()\n",
    "\n",
    "data = torchvision.datasets.Food101(root=\"./data\",\n",
    "                                    split=\"train\",\n",
    "                                    transform=preprocess\n",
    "                                    )\n",
    "train_data, val_data = torch.utils.data.random_split(data, [.8,.2])\n",
    "\n",
    "train_dataloader = torch.utils.data.DataLoader(train_data, batch_size=128, shuffle=True, num_workers=num_workers)\n",
    "val_dataloader = torch.utils.data.DataLoader(val_data, batch_size=128, shuffle=False, num_workers=num_workers)"
   ]
  },
  {
   "cell_type": "code",
   "execution_count": null,
   "id": "9d99d55d-1c9d-4aa5-8b9f-86ebba46759b",
   "metadata": {},
   "outputs": [],
   "source": [
    "X, y = next(iter(train_dataloader))\n",
    "print(f\"X shape: {X.shape}\")\n",
    "print(f\"y shape: {y.shape}\")"
   ]
  },
  {
   "cell_type": "code",
   "execution_count": null,
   "id": "17f7cff5-2a0a-4335-adba-6a775a46fc24",
   "metadata": {},
   "outputs": [],
   "source": [
    "y"
   ]
  },
  {
   "cell_type": "code",
   "execution_count": null,
   "id": "8b47009e-d053-4dd4-8376-c9c29368246e",
   "metadata": {},
   "outputs": [],
   "source": [
    "#preprocess = net.weights.transforms()\n",
    "preprocess = ResNet50_Weights.IMAGENET1K_V2.transforms()"
   ]
  },
  {
   "cell_type": "code",
   "execution_count": null,
   "id": "30ff01e1-2f52-4937-9aa0-53db81ee78ee",
   "metadata": {
    "tags": []
   },
   "outputs": [],
   "source": [
    "img_transformed = preprocess(X)"
   ]
  },
  {
   "cell_type": "code",
   "execution_count": null,
   "id": "1806878e-44e7-4e7a-bd7d-ab94892fbcea",
   "metadata": {},
   "outputs": [],
   "source": [
    "def training_loop(net, trainloader, valloader, gpu=False, epochs=1):\n",
    "    if gpu == False:\n",
    "        device = torch.device(\"cpu\")\n",
    "    elif gpu == True:\n",
    "        device = torch.device(\"mps\")\n",
    "    net = net.to(device)\n",
    "    \n",
    "    criterion = nn.CrossEntropyLoss()\n",
    "    optimizer = optim.SGD(net.parameters(), lr=0.001, momentum=0.9)\n",
    "    for epoch in range(epochs): \n",
    "        running_loss = 0.0\n",
    "        for i, data in enumerate(trainloader, 0):\n",
    "            inputs, labels = data\n",
    "            inputs = inputs.to(device)\n",
    "            labels = labels.to(device)\n",
    "            \n",
    "            optimizer.zero_grad()\n",
    "            outputs = net(inputs)\n",
    "            train_loss = criterion(outputs, labels)\n",
    "            train_loss.backward()\n",
    "            optimizer.step()\n",
    "            \n",
    "            # print statistics\n",
    "            #print(f\"{train_loss.item()}\")\n",
    "            running_loss += train_loss.item()\n",
    "            print(train_loss.item())\n",
    "            if i % 100 == 99:  # print every 200 mini-batches\n",
    "                print(f'[{epoch + 1}, {i + 1:5d}] loss: {running_loss / 100:.8f}')\n",
    "                running_loss = 0.0\n",
    "        #train_acc = accuracy_score(net, trainloader, gpu=gpu)\n",
    "        #val_acc = accuracy_score(net, valloader, gpu=gpu)\n",
    "        #print(f\"Epoch {epoch} train_acc: {train_acc}, val_acc: {val_acc}\")\n",
    "    PATH = './models/net.pth'\n",
    "    torch.save(net.state_dict(), PATH)\n",
    "    print(f'Training complete - model saved to {PATH}')"
   ]
  },
  {
   "cell_type": "code",
   "execution_count": null,
   "id": "eb70f402-92d1-472a-84b1-d873a5e582f6",
   "metadata": {},
   "outputs": [],
   "source": [
    "training_loop(net2, train_dataloader, val_dataloader, gpu=gpu, epochs=epochs)"
   ]
  },
  {
   "cell_type": "code",
   "execution_count": null,
   "id": "ae82d79a-9bad-4e7e-8984-2a89a7da9b63",
   "metadata": {},
   "outputs": [],
   "source": [
    "PATH = './models/net2.pth'\n",
    "torch.save(net2.state_dict(), PATH)"
   ]
  },
  {
   "cell_type": "code",
   "execution_count": null,
   "id": "4617e95d",
   "metadata": {},
   "outputs": [],
   "source": [
    "net2 = resnet50(weights=ResNet50_Weights.IMAGENET1K_V2)\n",
    "net2.fc = nn.Linear(in_features=2048, out_features=101, bias=True)\n",
    "net2.load_state_dict(torch.load(PATH))"
   ]
  },
  {
   "cell_type": "code",
   "execution_count": null,
   "id": "89daed86",
   "metadata": {},
   "outputs": [],
   "source": [
    "net2.fc"
   ]
  },
  {
   "cell_type": "code",
   "execution_count": null,
   "id": "09b081f9",
   "metadata": {},
   "outputs": [],
   "source": [
    "def resnet():\n",
    "    #net = resnet50(weights=ResNet50_Weights.IMAGENET1K_V2)\n",
    "    net = resnet50()\n",
    "    net.fc = nn.Linear(in_features=2048, out_features=101, bias=True)\n",
    "    return net"
   ]
  },
  {
   "cell_type": "code",
   "execution_count": null,
   "id": "3ac3b4f7",
   "metadata": {},
   "outputs": [],
   "source": [
    "net = resnet()"
   ]
  },
  {
   "cell_type": "code",
   "execution_count": null,
   "id": "49f4f85e",
   "metadata": {},
   "outputs": [],
   "source": [
    "#torch.save(net.state_dict(), PATH)"
   ]
  },
  {
   "cell_type": "code",
   "execution_count": null,
   "id": "cc89010e",
   "metadata": {},
   "outputs": [],
   "source": [
    "model = 'ResNet'\n",
    "\n",
    "net = resnet()\n",
    "PATH = f\"./models/{model}.pth\"\n",
    "net.load_state_dict(torch.load(PATH))"
   ]
  },
  {
   "cell_type": "code",
   "execution_count": null,
   "id": "97fc4235",
   "metadata": {},
   "outputs": [],
   "source": [
    "net.load_state_dict(torch.load(PATH))"
   ]
  },
  {
   "cell_type": "code",
   "execution_count": null,
   "id": "eaf4a9cd",
   "metadata": {},
   "outputs": [],
   "source": [
    "for x in torch.load(PATH):\n",
    "    print(x)"
   ]
  },
  {
   "cell_type": "code",
   "execution_count": null,
   "id": "faef3da2",
   "metadata": {},
   "outputs": [],
   "source": []
  }
 ],
 "metadata": {
  "kernelspec": {
   "display_name": "Python 3 (ipykernel)",
   "language": "python",
   "name": "python3"
  },
  "language_info": {
   "codemirror_mode": {
    "name": "ipython",
    "version": 3
   },
   "file_extension": ".py",
   "mimetype": "text/x-python",
   "name": "python",
   "nbconvert_exporter": "python",
   "pygments_lexer": "ipython3",
   "version": "3.10.12"
  }
 },
 "nbformat": 4,
 "nbformat_minor": 5
}
